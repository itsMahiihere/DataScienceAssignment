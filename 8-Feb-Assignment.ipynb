{
 "cells": [
  {
   "cell_type": "code",
   "execution_count": 2,
   "id": "050fd1ba-f4d3-447b-b800-92a39f4edc4e",
   "metadata": {},
   "outputs": [],
   "source": [
    "# # Q1. What is Abstraction in OOps? Explain with an example.\n",
    "# # --->\n",
    "# # Abstraction in object-oriented programming is a principle that involves hiding the implementation details of a class and \n",
    "#   exposing only the necessary information to the user.The main idea behind abstraction is to simplify complex systems by\n",
    "#   breaking them into smaller, more manageable components.\n",
    "\n",
    "# # For example, consider a car. A user does not need to know how the engine of the car works in order to use it. \n",
    "#   They only need to know that when they turn the key, the car starts and when they press the gas pedal, the car moves.\n",
    "#   The inner workings of the engine are abstracted away, hidden from the user, and only the necessary information is exposed.\n",
    "\n",
    "# # Similarly, in object-oriented programming, you can create a class for a car with methods such as \"start\" and \"accelerate\", \n",
    "#   and hide the implementation details of how the engine works within the class. This allows the user to interact with the car \n",
    "#   object in a simplified and easy-to-use manner, without having to worry about the complex details of the engine."
   ]
  },
  {
   "cell_type": "code",
   "execution_count": 3,
   "id": "5d4f71a7-ea72-4f84-a786-942028a9d7b9",
   "metadata": {},
   "outputs": [],
   "source": [
    "\n",
    "# Q2. Differentiate between Abstraction and Encapsulation. Explain with an example.\n",
    "\n",
    "# Abstraction is the process of hiding complex implementation details behind a simpler interface, so that the user can interact with the system without having to know the underlying details. The goal of abstraction is to simplify complex systems and provide a clear, high-level view of the system.\n",
    "# For example, consider a class for a bank account. The abstraction of the bank account provides a simple interface for deposit, withdraw, and check balance operations. The implementation details of how these operations are executed, such as the calculation of interest, are hidden from the user. This is an example of abstraction.\n",
    "\n",
    "\n",
    "# Encapsulation on the other hand, is the process of combining data and the functions that operate on that data within an object. This protects the data from being directly accessed or modified by other parts of the system, and ensures that the data is only manipulated through the functions provided by the object. Encapsulation is a means of enforcing data hiding and modularity.\n",
    "# Encapsulation, in this example, involves combining the data of the bank account, such as the account balance, with the functions that operate on that data, such as deposit and withdraw. This ensures that the data is only manipulated through the functions provided by the class and is protected from direct access or modification. This is an example of encapsulation.\n",
    " \n",
    "\n",
    "\n",
    "\n",
    "\n"
   ]
  },
  {
   "cell_type": "code",
   "execution_count": 4,
   "id": "ff139732-a58c-41b7-82e5-f506174d7193",
   "metadata": {},
   "outputs": [],
   "source": [
    "# Q3. What is abc module in python? Why is it used?\n",
    "\n",
    "# The \"abc\" module in Python stands for \"Abstract Base Classes\". It provides a way to define abstract base classes in Python, which are classes that cannot be instantiated and are meant to serve as a base for other classes to inherit from. The main purpose of using abstract base classes is to ensure that a common interface is maintained across related classes and to enforce certain constraints on derived classes.\n",
    "\n",
    "# For example, let's say you have a set of classes that represent different shapes (such as Circle, Rectangle, and Triangle). "
   ]
  },
  {
   "cell_type": "code",
   "execution_count": 5,
   "id": "de7920c9-ef1b-41ab-88a5-1f6c7d6f10fb",
   "metadata": {},
   "outputs": [],
   "source": [
    "# Q4. How can we achieve data abstraction?\n",
    "\n",
    "# Data abstraction is achieved by hiding the implementation details of a class and exposing only the necessary information to the user. There are several ways to achieve data abstraction in object-oriented programming:\n",
    "\n",
    "# Encapsulation: Encapsulation is the process of combining data and the functions that operate on that data within an object. This protects the data from being directly accessed or modified by other parts of the system, and ensures that the data is only manipulated through the functions provided by the object.\n",
    "\n",
    "# Access Modifiers: Access modifiers, such as private, protected, and public, can be used to control the visibility of data members and methods. For example, declaring a data member or method as private restricts its access to only the class in which it is defined, while declaring it as public makes it accessible from outside the class.\n",
    "\n",
    "# Interfaces: An interface is a blueprint for a class, which defines the methods that the class must implement. An interface can be used to define a common interface for related classes, which ensures that all classes implement the same set of methods.\n",
    "\n",
    "# Abstract Classes: An abstract class is a class that cannot be instantiated and is meant to serve as a base for other classes to inherit from. An abstract class can be used to enforce certain constraints on derived classes and ensure that a common interface is maintained across related classes"
   ]
  },
  {
   "cell_type": "code",
   "execution_count": null,
   "id": "721e96e6-bd06-44ec-bf40-6f8b491e8bee",
   "metadata": {},
   "outputs": [],
   "source": [
    "# Q5. Can we create an instance of an abstract class? Explain your answer.\n",
    "# No, you cannot create an instance of an abstract class. \n",
    "# An abstract class is a class that cannot be instantiated and is meant to serve as a base for other classes to inherit from. \n",
    "# The purpose of an abstract class is to define a common interface for related classes and enforce certain constraints on derived classes."
   ]
  }
 ],
 "metadata": {
  "kernelspec": {
   "display_name": "Python 3 (ipykernel)",
   "language": "python",
   "name": "python3"
  },
  "language_info": {
   "codemirror_mode": {
    "name": "ipython",
    "version": 3
   },
   "file_extension": ".py",
   "mimetype": "text/x-python",
   "name": "python",
   "nbconvert_exporter": "python",
   "pygments_lexer": "ipython3",
   "version": "3.10.8"
  }
 },
 "nbformat": 4,
 "nbformat_minor": 5
}
