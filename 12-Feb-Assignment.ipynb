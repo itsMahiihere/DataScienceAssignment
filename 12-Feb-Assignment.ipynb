{
 "cells": [
  {
   "cell_type": "code",
   "execution_count": 8,
   "id": "34956034-0fd7-4753-b20e-371be441402f",
   "metadata": {},
   "outputs": [],
   "source": [
    "# Q1. What is an Exception in python? Write difference between Exception and Syntax Error?\n",
    "# ---->\n",
    "# In Python, an Exception is an error that occurs during the execution of a program.\n",
    "# Exceptions are raised when something goes wrong in the program, such as an invalid input, a division by zero,\n",
    "# or a file that cannot be found.\n",
    "\n",
    "# When an exception occurs, Python raises an object of the corresponding exception class, which includes information about the \n",
    "# type of error and where it occurred in the code.\n",
    "# If an exception is not caught and handled by the program, it will cause the program to terminate and display an error message.\n",
    "\n",
    "# To catch and handle exceptions in Python, you can use a try-except block. \n",
    "# This allows you to write code that will try to execute a block of code, and if an exception occurs, \n",
    "# it will be caught by the except block and handled accordingly.\n",
    "\n",
    "# Both exceptions and syntax errors are types of errors that can occur in Python, but they are different in nature.\n",
    " # Syntax errors ---->\n",
    "# Syntax errors occur when the interpreter is unable to parse the code due to a violation of the language syntax rules.\n",
    "# This means that the code does not follow the correct structure and format required by the Python language, and the interpreter \n",
    "# is unable to understand and execute it. Examples of syntax errors include missing or incorrect parentheses, colons, or commas,\n",
    "# misspelled keywords, and invalid indentation.\n",
    "\n",
    "# Exceptions, on the other hand, occur when the code is syntactically correct, but an error occurs during the execution of \n",
    "# the program. This can happen due to a wide range of reasons, such as invalid input, division by zero, or attempting to access \n",
    "# a non-existent object."
   ]
  },
  {
   "cell_type": "code",
   "execution_count": null,
   "id": "dbd89610-46e4-430c-9464-a7fbeeefa10c",
   "metadata": {},
   "outputs": [
    {
     "name": "stdout",
     "output_type": "stream",
     "text": [
      "2.5\n"
     ]
    },
    {
     "ename": "ZeroDivisionError",
     "evalue": "division by zero",
     "output_type": "error",
     "traceback": [
      "\u001b[0;31m---------------------------------------------------------------------------\u001b[0m",
      "\u001b[0;31mZeroDivisionError\u001b[0m                         Traceback (most recent call last)",
      "Cell \u001b[0;32mIn[1], line 12\u001b[0m\n\u001b[1;32m      9\u001b[0m     \u001b[38;5;28;01mreturn\u001b[39;00m a \u001b[38;5;241m/\u001b[39m b\n\u001b[1;32m     11\u001b[0m \u001b[38;5;28mprint\u001b[39m(divide(\u001b[38;5;241m5\u001b[39m, \u001b[38;5;241m2\u001b[39m))\n\u001b[0;32m---> 12\u001b[0m \u001b[38;5;28mprint\u001b[39m(\u001b[43mdivide\u001b[49m\u001b[43m(\u001b[49m\u001b[38;5;241;43m5\u001b[39;49m\u001b[43m,\u001b[49m\u001b[43m \u001b[49m\u001b[38;5;241;43m0\u001b[39;49m\u001b[43m)\u001b[49m)\n",
      "Cell \u001b[0;32mIn[1], line 9\u001b[0m, in \u001b[0;36mdivide\u001b[0;34m(a, b)\u001b[0m\n\u001b[1;32m      8\u001b[0m \u001b[38;5;28;01mdef\u001b[39;00m \u001b[38;5;21mdivide\u001b[39m(a, b):\n\u001b[0;32m----> 9\u001b[0m     \u001b[38;5;28;01mreturn\u001b[39;00m \u001b[43ma\u001b[49m\u001b[43m \u001b[49m\u001b[38;5;241;43m/\u001b[39;49m\u001b[43m \u001b[49m\u001b[43mb\u001b[49m\n",
      "\u001b[0;31mZeroDivisionError\u001b[0m: division by zero"
     ]
    }
   ],
   "source": [
    "Q2. What happens when an exception is not hndled? Explain with an example\n",
    "#answer2\n",
    "When an exception is not handled in a Python program, the program terminates abnormally and generates an \n",
    "error message.\n",
    "This is because the Python interpreter raises an exception to alert the program that something unexpected has occurred,\n",
    "\n",
    "def divide(a, b):\n",
    "    return a / b\n",
    "\n",
    "print(divide(5, 2))\n",
    "print(divide(5, 0))\n"
   ]
  },
  {
   "cell_type": "code",
   "execution_count": null,
   "id": "3946d54e-a087-473d-a32d-e6870e49fd98",
   "metadata": {},
   "outputs": [
    {
     "ename": "IndentationError",
     "evalue": "expected an indented block after 'try' statement on line 6 (2109157574.py, line 8)",
     "output_type": "error",
     "traceback": [
      "\u001b[0;36m  Cell \u001b[0;32mIn[4], line 8\u001b[0;36m\u001b[0m\n\u001b[0;31m    except ExceptionType1 as e1:\u001b[0m\n\u001b[0m    ^\u001b[0m\n\u001b[0;31mIndentationError\u001b[0m\u001b[0;31m:\u001b[0m expected an indented block after 'try' statement on line 6\n"
     ]
    }
   ],
   "source": [
    "\"\"\"Q3. Whichh Python statement sre used to catch and handle exceptions? Explain with an example\"\"\"\n",
    "#answer3\n",
    "\"\"\"The \"try-except\" statements are used in Python to catch and handle exceptions. The basic syntax of a try-except\n",
    "statement is as follows:\"\"\"\n",
    "\"\"\"\n",
    "try:\n",
    "   # code block to be executed\n",
    "except ExceptionType1 as e1:\n",
    "   # code block to handle exception of type ExceptionType1\n",
    "except ExceptionType2 as e2:\n",
    "   # code block to handle exception of type ExceptionType2\n",
    "...\n",
    "else:\n",
    "   # code block to be executed if no exception was raised\n",
    "\"\"\"\n",
    "#example\n",
    "try:\n",
    "   result = 5/0\n",
    "except ZeroDivisionError as e:\n",
    "   print(\"An error occurred:\", e)\n",
    "else:\n",
    "   print(\"The result is\", result)\n"
   ]
  },
  {
   "cell_type": "code",
   "execution_count": null,
   "id": "d08e5dd4-010c-4f91-a039-20fd9d7753c6",
   "metadata": {},
   "outputs": [
    {
     "ename": "SyntaxError",
     "evalue": "invalid syntax (623102225.py, line 1)",
     "output_type": "error",
     "traceback": [
      "\u001b[0;36m  Cell \u001b[0;32mIn[3], line 1\u001b[0;36m\u001b[0m\n\u001b[0;31m    Q4. Explain withan example:\u001b[0m\n\u001b[0m                ^\u001b[0m\n\u001b[0;31mSyntaxError\u001b[0m\u001b[0;31m:\u001b[0m invalid syntax\n"
     ]
    }
   ],
   "source": [
    "\"\"\"Q4. Explain withan example:\n",
    "try and else\n",
    "finally\n",
    "rise\"\"\"\n",
    "#ans4\n",
    "\"\"\"try and else are used in Python to catch and handle exceptions, as explained in my previous answer\"\"\"\n",
    "try:\n",
    "   result = 5/2\n",
    "except ZeroDivisionError as e:\n",
    "   print(\"An error occurred:\", e)\n",
    "else:\n",
    "   print(\"The result is\", result)\n",
    "\"\"\"\"finally\" is used in Python to specify a block of code that is always executed, whether an exception is raised or not.\"\"\"\n",
    "try:\n",
    "   result = 5/0\n",
    "except ZeroDivisionError as e:\n",
    "   print(\"An error occurred:\", e)\n",
    "finally:\n",
    "   print(\"The 'finally' block is always executed.\")\n",
    "\"\"\"\"raise\" is used in Python to raise an exception.\"\"\"\n",
    "def check_input(value):\n",
    "   if value < 0:\n",
    "      raise ValueError(\"Input value cannot be negative.\")\n",
    "   else:\n",
    "      print(\"Input value is valid.\")\n",
    "\n",
    "try:\n",
    "   check_input(-1)\n",
    "except ValueError as e:\n",
    "   print(\"An error occurred:\", e)\n"
   ]
  },
  {
   "cell_type": "code",
   "execution_count": 12,
   "id": "0ee1f340-7f1a-4dc3-928c-df743e91a386",
   "metadata": {},
   "outputs": [
    {
     "name": "stdout",
     "output_type": "stream",
     "text": [
      "Error: Input must be a non-negative integer.\n"
     ]
    }
   ],
   "source": [
    "\"\"\"Q5. What are Custom Exceptions in python? Why do we need Custom Exceptions? Explain withan example\"\"\"\n",
    "#answer5\n",
    "\"\"\"Custom exceptions in Python are user-defined exceptions that can be raised to indicate a specific error or exception scenario in a\n",
    "program. In Python, you can define custom exceptions by creating a new class that inherits from the built-in Exception class.\n",
    "\n",
    "Custom exceptions are useful because they allow you to raise exceptions with specific error messages and to handle them differently from \n",
    "other exceptions. This makes it easier to debug and handle errors in your code, as you can write specific error handling logic for each\n",
    "custom exception.\"\"\"\n",
    "class InvalidInputException(Exception):\n",
    "    pass\n",
    "\n",
    "def factorial(n):\n",
    "    if n < 0:\n",
    "        raise InvalidInputException(\"Input must be a non-negative integer.\")\n",
    "    result = 1\n",
    "    for i in range(1, n + 1):\n",
    "        result *= i\n",
    "    return result\n",
    "\n",
    "try:\n",
    "    result = factorial(-5)\n",
    "except InvalidInputException as e:\n",
    "    print(\"Error:\", e)\n"
   ]
  },
  {
   "cell_type": "code",
   "execution_count": 13,
   "id": "81f69f5c-526c-4169-a3b3-bde65722151e",
   "metadata": {},
   "outputs": [
    {
     "name": "stdout",
     "output_type": "stream",
     "text": [
      "Error: Age cannot be negative.\n"
     ]
    }
   ],
   "source": [
    "\"\"\"Q6. Create custom exception class. Use this class to handle an exception.\"\"\"\n",
    "#answer\n",
    "class InvalidAgeException(Exception):\n",
    "    def __init__(self, message):\n",
    "        self.message = message\n",
    "\n",
    "def check_age(age):\n",
    "    if age < 0:\n",
    "        raise InvalidAgeException(\"Age cannot be negative.\")\n",
    "    if age > 120:\n",
    "        raise InvalidAgeException(\"Age cannot be greater than 120.\")\n",
    "    print(\"Age is valid.\")\n",
    "\n",
    "try:\n",
    "    check_age(-5)\n",
    "except InvalidAgeException as e:\n",
    "    print(\"Error:\", e.message)\n"
   ]
  },
  {
   "cell_type": "code",
   "execution_count": null,
   "id": "f2e8d8fa-ae1b-43ce-95b8-24e4b181e7b6",
   "metadata": {},
   "outputs": [],
   "source": []
  }
 ],
 "metadata": {
  "kernelspec": {
   "display_name": "Python 3 (ipykernel)",
   "language": "python",
   "name": "python3"
  },
  "language_info": {
   "codemirror_mode": {
    "name": "ipython",
    "version": 3
   },
   "file_extension": ".py",
   "mimetype": "text/x-python",
   "name": "python",
   "nbconvert_exporter": "python",
   "pygments_lexer": "ipython3",
   "version": "3.10.8"
  }
 },
 "nbformat": 4,
 "nbformat_minor": 5
}
