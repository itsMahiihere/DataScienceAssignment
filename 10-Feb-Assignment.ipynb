{
 "cells": [
  {
   "cell_type": "code",
   "execution_count": 2,
   "id": "45f241c7-2688-4116-b100-da7930798d98",
   "metadata": {},
   "outputs": [],
   "source": [
    "# -----------------> Assignment 10 ---------->"
   ]
  },
  {
   "cell_type": "code",
   "execution_count": 6,
   "id": "c1124e4d-17a3-4111-85da-0b92c7a7dc19",
   "metadata": {},
   "outputs": [],
   "source": [
    "# Q1. Which function is used to open a file? What are the different modes of opening a \n",
    "#     file? Explain each mode of file opening.\n",
    "\n",
    "\n",
    "# The open() function is used to open a file in Python.\n",
    "\n",
    "# The different modes of opening a file in Python are:\n",
    "\n",
    "# 'r' - Read mode: This is the default mode and it is used to read the contents of a file. \n",
    "#       If the file does not exist, an error is raised.\n",
    "\n",
    "# 'w' - Write mode: This mode is used to write to a file. If the file exists, its contents\n",
    "#       are overwritten. If the file does not exist, a new file is created.\n",
    "\n",
    "# 'a' - Append mode: This mode is used to add data to an existing file. If the file exists,\n",
    "#       the data is appended to the end of the file. If the file does not exist,a new file is created.\n",
    "\n",
    "# 'x' - Exclusive creation mode: This mode is used to create a new file and write data to it.\n",
    "#       If the file already exists, an error is raised.\n",
    "\n",
    "# 'b' - Binary mode: This mode is used to read and write binary files. The default mode is \n",
    "#       text mode, so 'b' is usually combined with the other modes (e.g. 'rb', 'wb', etc.)."
   ]
  },
  {
   "cell_type": "code",
   "execution_count": null,
   "id": "2664b6e8-c5d7-471a-88ec-297e9b74d6cd",
   "metadata": {},
   "outputs": [],
   "source": [
    "# Open a file in read mode\n",
    "f = open(\"file.txt\", \"r\")\n",
    "\n",
    "# Open a file in write mode\n",
    "f = open(\"file.txt\", \"w\")\n",
    "\n",
    "# Open a file in append mode\n",
    "f = open(\"file.txt\", \"a\")\n",
    "\n",
    "# Open a file in binary mode\n",
    "f = open(\"file.bin\", \"wb\")\n"
   ]
  },
  {
   "cell_type": "code",
   "execution_count": 9,
   "id": "89bca924-3312-4525-b6b6-6f7076d0beff",
   "metadata": {},
   "outputs": [],
   "source": [
    "# Q2. Why close() function is used? Why is it important to close a file?\n",
    "\n",
    "# The close() function is used to close a file in Python. It is important to close a file\n",
    "# after it has been used because it frees up system resources and ensures that the file's\n",
    "# data is properly saved and stored.\n",
    "# Open a file in read mode\n",
    "f = open(\"file.txt\", \"r\")\n",
    "\n",
    "# Perform file operations\n",
    "...\n",
    "\n",
    "# Close the file\n",
    "f.close()\n",
    "\n",
    "# Or, use the with statement\n",
    "with open(\"file.txt\", \"r\") as f:\n",
    "    # Perform file operations\n",
    "    ...\n",
    "\n",
    "\n"
   ]
  },
  {
   "cell_type": "code",
   "execution_count": 10,
   "id": "f40a7b3e-c014-4f3b-945e-3809d9233a1f",
   "metadata": {},
   "outputs": [
    {
     "name": "stdout",
     "output_type": "stream",
     "text": [
      "I want to become a Data Scientist\n"
     ]
    }
   ],
   "source": [
    "# Q3. Write a python program to create a text file. Write ‘I want to become a Data \n",
    "#     Scientist’ in that file. Then close the file. Open this file and read the content of\n",
    "#     the file.\n",
    "\n",
    "# Create a text file and write to it\n",
    "with open(\"file.txt\", \"w\") as f:\n",
    "    f.write(\"I want to become a Data Scientist\")\n",
    "\n",
    "# Read the contents of the file\n",
    "with open(\"file.txt\", \"r\") as f:\n",
    "    content = f.read()\n",
    "    print(content)\n"
   ]
  },
  {
   "cell_type": "code",
   "execution_count": 12,
   "id": "38e49dc9-4835-4b6c-9aab-b5dc8731711d",
   "metadata": {},
   "outputs": [
    {
     "name": "stdout",
     "output_type": "stream",
     "text": [
      "I want to become a Data Scientist\n"
     ]
    }
   ],
   "source": [
    "# Q4. Explain the following with python code: read(), readline() and readlines().\n",
    "\n",
    "# read(): This method reads the entire contents of a file as a single string. If the file\n",
    "# is large, this can consume a lot of memory.\n",
    "# Example:\n",
    "\n",
    "with open(\"file.txt\", \"r\") as f:\n",
    "    content = f.read()\n",
    "    print(content)\n",
    "\n",
    "\n",
    "\n",
    "\n",
    "\n"
   ]
  },
  {
   "cell_type": "code",
   "execution_count": 13,
   "id": "c80850d7-3a13-4f28-98b2-087def9cf523",
   "metadata": {},
   "outputs": [
    {
     "name": "stdout",
     "output_type": "stream",
     "text": [
      "I want to become a Data Scientist\n"
     ]
    }
   ],
   "source": [
    "# readlines(): This method reads all the lines of a file and returns them as a list of \n",
    "# strings, where each element in the list represents a line in the file.\n",
    "# Example:\n",
    "\n",
    "\n",
    "with open(\"file.txt\", \"r\") as f:\n",
    "    lines = f.readlines()\n",
    "    for line in lines:\n",
    "        print(line)"
   ]
  },
  {
   "cell_type": "code",
   "execution_count": 14,
   "id": "f738da83-3569-45ae-842d-72fe47f13709",
   "metadata": {},
   "outputs": [
    {
     "name": "stdout",
     "output_type": "stream",
     "text": [
      "I want to become a Data Scientist\n"
     ]
    }
   ],
   "source": [
    "# readline(): This method reads a single line from the file at a time. Each call to \n",
    "# readline() returns the next line of the file, until the end of the file is reached.\n",
    "# Example:\n",
    "\n",
    "with open(\"file.txt\", \"r\") as f:\n",
    "    line = f.readline()\n",
    "    while line:\n",
    "        print(line)\n",
    "        line = f.readline()\n"
   ]
  },
  {
   "cell_type": "code",
   "execution_count": 15,
   "id": "8a2074bb-f8ca-4ef9-9e69-8145ad29cdec",
   "metadata": {},
   "outputs": [],
   "source": [
    "# Q5. Explain why with statement is used with open(). What is the advantage of using with\n",
    "#     statement and\n",
    "#     open() together?\n",
    "\n",
    "# The with statement is used with open() to ensure that a file is properly closed after \n",
    "# it has been used. The advantage of using with and open() together is that it eliminates \n",
    "# the need for manually closing the file after it has been used.\n",
    "\n",
    "# In Python, when a file is opened using the open() function, it is important to close the \n",
    "# ile after it has been used to release resources and avoid potential errors. If a file is\n",
    "# not closed, it can cause problems such as data corruption, resource leaks, and other \n",
    "# issues.\n",
    "\n",
    "# Without using with statement\n",
    "f = open(\"file.txt\", \"r\")\n",
    "content = f.read()\n",
    "f.close()\n",
    "\n",
    "# With using with statement\n",
    "with open(\"file.txt\", \"r\") as f:\n",
    "    content = f.read()\n"
   ]
  },
  {
   "cell_type": "code",
   "execution_count": 17,
   "id": "a82c6d36-017d-485d-b78f-abb2c0472c42",
   "metadata": {},
   "outputs": [],
   "source": [
    "# Q6. Explain the write() and writelines() functions. Give a suitable example.\n",
    "\n",
    "# The write() and writelines() functions are used to write content to a file in Python.\n",
    "\n",
    "# The write() function is used to write a single string to a file. It takes a single \n",
    "# argument, which is the string that you want to write to the file. The string is written \n",
    "# to the file exactly as it is passed to the write() function.\n",
    "\n",
    "# Example:\n",
    "\n",
    "with open(\"file.txt\", \"w\") as f:\n",
    "    f.write(\"I want to become a Data Scientist\")\n",
    "    \n"
   ]
  },
  {
   "cell_type": "code",
   "execution_count": 19,
   "id": "183dc706-a1a7-4b3f-b843-02c7849cafed",
   "metadata": {},
   "outputs": [],
   "source": [
    "# The writelines() function is used to write a list of strings to a file. \n",
    "# It takes a single argument, which is the list of strings that you want to write to \n",
    "# the file. The strings are written to the file exactly as they are passed to the \n",
    "# writelines() function.\n",
    "\n",
    "# Example:\n",
    "\n",
    "\n",
    "with open(\"file.txt\", \"w\") as f:\n",
    "    lines = [\"I want to become a Data Scientist\", \"Data Science is a great field\"]\n",
    "    f.writelines(lines)"
   ]
  },
  {
   "cell_type": "code",
   "execution_count": null,
   "id": "21e8b5f3-5bf1-4dbe-97f2-3280b3b3d658",
   "metadata": {},
   "outputs": [],
   "source": []
  }
 ],
 "metadata": {
  "kernelspec": {
   "display_name": "Python 3 (ipykernel)",
   "language": "python",
   "name": "python3"
  },
  "language_info": {
   "codemirror_mode": {
    "name": "ipython",
    "version": 3
   },
   "file_extension": ".py",
   "mimetype": "text/x-python",
   "name": "python",
   "nbconvert_exporter": "python",
   "pygments_lexer": "ipython3",
   "version": "3.10.8"
  }
 },
 "nbformat": 4,
 "nbformat_minor": 5
}
