{
 "cells": [
  {
   "cell_type": "code",
   "execution_count": 9,
   "id": "724dd191-7168-4434-bdcf-767b8710ac22",
   "metadata": {},
   "outputs": [
    {
     "name": "stdout",
     "output_type": "stream",
     "text": [
      "Valid Password\n",
      "Invalid Password\n"
     ]
    }
   ],
   "source": [
    "# Q1. You are writing code for a company. The requirement of the company is that you create a python\n",
    "# function that will check whether the password entered by the user is correct or not. The function should\n",
    "# take the password as input and return the string “Valid Password” if the entered password follows the\n",
    "# below-given password guidelines else it should return “Invalid Password”.\n",
    "# Note:\n",
    "# 1. The Password should contain at least two uppercase letters and at least two lowercase letters.\n",
    "# 2. The Password should contain at least a number and three special characters.\n",
    "# 3. The length of the password should be 10 characters long.\n",
    "\n",
    "\n",
    "\n",
    "import re\n",
    "\n",
    "def check_password(password):\n",
    "    upper_case = re.compile(r'[A-Z]')\n",
    "    lower_case = re.compile(r'[a-z]')\n",
    "    numbers = re.compile(r'\\d')\n",
    "    special_characters = re.compile(r'[!@#$%^&*()_+-={}[]|;:<>,.?/]')\n",
    "\n",
    "    if len(password) != 10:\n",
    "        return \"Invalid Password\"\n",
    "    elif len(upper_case.findall(password)) < 2:\n",
    "        return \"Invalid Password\"\n",
    "    elif len(lower_case.findall(password)) < 2:\n",
    "        return \"Invalid Password\"\n",
    "    elif len(numbers.findall(password)) == 0:\n",
    "        return \"Invalid Password\"\n",
    "    elif len(special_characters.findall(password)) < 3:\n",
    "        return \"Invalid Password\"\n",
    "    else:\n",
    "        return \"Valid Password\"\n",
    "\n",
    "print(check_password(\"AAil@@@123\")) \n",
    "print(check_password(\"Anil!\")) \n"
   ]
  },
  {
   "cell_type": "code",
   "execution_count": 29,
   "id": "4699a81e-cdf2-41b8-b9ac-a07f7c23d341",
   "metadata": {},
   "outputs": [
    {
     "name": "stdout",
     "output_type": "stream",
     "text": [
      "True\n"
     ]
    }
   ],
   "source": [
    "# Q2. Solve the below-given questions using at least one of the following:\n",
    "# 1. Lambda functioJ\n",
    "# 2. Filter functioJ\n",
    "# 3. Zap functioJ\n",
    "# 4. List ComprehensioI\n",
    "\n",
    "#1  Check if the string starts with a particular letterY\n",
    "\n",
    "string = \"Hello World\"\n",
    "letter = \"H\"\n",
    "check = lambda string: True if string.startswith(letter) else False\n",
    "print(check(string)) \n",
    "\n",
    "\n"
   ]
  },
  {
   "cell_type": "code",
   "execution_count": 30,
   "id": "3700e319-0a30-4589-8def-0149cd2af6cc",
   "metadata": {},
   "outputs": [
    {
     "name": "stdout",
     "output_type": "stream",
     "text": [
      "True\n"
     ]
    }
   ],
   "source": [
    "#2 Check if the string is numeric\n",
    "string = \"12345\"\n",
    "check = lambda string: True if string.isdigit() else False\n",
    "print(check(string)) \n"
   ]
  },
  {
   "cell_type": "code",
   "execution_count": 12,
   "id": "dfb111bf-3964-4405-88b8-9ba46e6852c4",
   "metadata": {},
   "outputs": [
    {
     "name": "stdout",
     "output_type": "stream",
     "text": [
      "[('orange', 80), ('mango', 99), ('grapes', 1000)]\n"
     ]
    }
   ],
   "source": [
    "#3 Sort a list of tuples having fruit names and their quantity:\n",
    "\n",
    "fruits = [(\"mango\", 99), (\"orange\", 80), (\"grapes\", 1000)]\n",
    "sorted_fruits = sorted(fruits, key=lambda x: x[1])\n",
    "print(sorted_fruits) "
   ]
  },
  {
   "cell_type": "code",
   "execution_count": 13,
   "id": "af7c5078-d137-47c4-8517-e9f7b88f1429",
   "metadata": {},
   "outputs": [
    {
     "name": "stdout",
     "output_type": "stream",
     "text": [
      "[1, 4, 9, 16, 25, 36, 49, 64, 81, 100]\n"
     ]
    }
   ],
   "source": [
    "#4 Find the squares of numbers from 1 to 10:\n",
    "\n",
    "numbers = range(1, 11)\n",
    "squared_numbers = list(map(lambda x: x**2, numbers))\n",
    "print(squared_numbers) "
   ]
  },
  {
   "cell_type": "code",
   "execution_count": 14,
   "id": "4aa64d84-c4df-4ab6-ad2d-1178218eee6d",
   "metadata": {},
   "outputs": [
    {
     "name": "stdout",
     "output_type": "stream",
     "text": [
      "[1.0, 1.26, 1.44, 1.59, 1.71, 1.82, 1.91, 2.0, 2.08, 2.15]\n"
     ]
    }
   ],
   "source": [
    "#5 Find the cube root of numbers from 1 to 10\n",
    "import math\n",
    "numbers = range(1, 11)\n",
    "cuberoot_numbers = list(map(lambda x: round(math.pow(x, 1/3), 2), numbers))\n",
    "print(cuberoot_numbers) "
   ]
  },
  {
   "cell_type": "code",
   "execution_count": 15,
   "id": "820afae2-0cbf-4f42-9513-3528bff407c4",
   "metadata": {},
   "outputs": [
    {
     "name": "stdout",
     "output_type": "stream",
     "text": [
      "[1.0, 1.26, 1.44, 1.59, 1.71, 1.82, 1.91, 2.0, 2.08, 2.15]\n"
     ]
    }
   ],
   "source": [
    "#6 Check if a given number is even\n",
    "import math\n",
    "numbers = range(1, 11)\n",
    "cuberoot_numbers = list(map(lambda x: round(math.pow(x, 1/3), 2), numbers))\n",
    "print(cuberoot_numbers) # Output: [1.0, 1.44, 1.68, 1.83, 1.93, 2.0, 2.08, 2.15, 2.22, 2.28]\n"
   ]
  },
  {
   "cell_type": "code",
   "execution_count": 16,
   "id": "add6aee4-b8a3-4f60-b667-669932ce927f",
   "metadata": {},
   "outputs": [
    {
     "name": "stdout",
     "output_type": "stream",
     "text": [
      "[1, 3, 5, 7, 9]\n"
     ]
    }
   ],
   "source": [
    "#7 Filter odd numbers from the given list:\n",
    "\n",
    "numbers = [1,2,3,4,5,6,7,8,9,10]\n",
    "odd_numbers = list(filter(lambda x: x%2!=0, numbers))\n",
    "print(odd_numbers) "
   ]
  },
  {
   "cell_type": "code",
   "execution_count": 17,
   "id": "2843e03b-b6b0-43c6-93db-fb01c77b95fa",
   "metadata": {},
   "outputs": [
    {
     "name": "stdout",
     "output_type": "stream",
     "text": [
      "[1, 2, 3, 4, 5, 6]\n",
      "[-1, -2, -3, -4, -5]\n"
     ]
    }
   ],
   "source": [
    "#8 Sort a list of integers into positive and negative integers lists:\n",
    "\n",
    "numbers = [1,2,3,4,5,6,-1,-2,-3,-4,-5,0]\n",
    "positive_numbers = list(filter(lambda x: x > 0, numbers))\n",
    "negative_numbers = list(filter(lambda x: x < 0, numbers))\n",
    "print(positive_numbers) \n",
    "print(negative_numbers) "
   ]
  },
  {
   "cell_type": "code",
   "execution_count": null,
   "id": "ae58920d-fcea-475b-8cb1-c285858d7f5d",
   "metadata": {},
   "outputs": [],
   "source": []
  },
  {
   "cell_type": "code",
   "execution_count": 2,
   "id": "aaeac6b1-84ea-4408-8f97-b8e19edb453a",
   "metadata": {},
   "outputs": [],
   "source": []
  },
  {
   "cell_type": "code",
   "execution_count": null,
   "id": "d5ae1edf-ce72-44f1-8ade-1a8ae88ede11",
   "metadata": {},
   "outputs": [],
   "source": []
  },
  {
   "cell_type": "code",
   "execution_count": 8,
   "id": "ea2a29cc-8d30-4976-b926-ec1d54fc6f45",
   "metadata": {},
   "outputs": [
    {
     "name": "stdout",
     "output_type": "stream",
     "text": [
      "Invalid Password\n"
     ]
    }
   ],
   "source": []
  },
  {
   "cell_type": "code",
   "execution_count": null,
   "id": "e685a02e-1c62-4867-a0f0-b28c32067fb6",
   "metadata": {},
   "outputs": [],
   "source": []
  }
 ],
 "metadata": {
  "kernelspec": {
   "display_name": "Python 3 (ipykernel)",
   "language": "python",
   "name": "python3"
  },
  "language_info": {
   "codemirror_mode": {
    "name": "ipython",
    "version": 3
   },
   "file_extension": ".py",
   "mimetype": "text/x-python",
   "name": "python",
   "nbconvert_exporter": "python",
   "pygments_lexer": "ipython3",
   "version": "3.10.8"
  }
 },
 "nbformat": 4,
 "nbformat_minor": 5
}
