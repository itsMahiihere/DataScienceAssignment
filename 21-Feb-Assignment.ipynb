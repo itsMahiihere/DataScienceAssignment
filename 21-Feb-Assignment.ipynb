{
 "cells": [
  {
   "cell_type": "markdown",
   "id": "2e93ec0c",
   "metadata": {},
   "source": [
    "#### Q1. What is Web Scraping? Why is it Used? Give three areas where Web Scraping is used to get data.\n"
   ]
  },
  {
   "cell_type": "markdown",
   "id": "4b9ee26b",
   "metadata": {},
   "source": [
    "**Web Scraping** is a way to scrap or collent data form a website.\n",
    "It is used to grab data to perfom some test and gethr use full information by using this data.     \n",
    "- In big data\n",
    "- In data Analytics\n",
    "- In data engineer   \n",
    "\n",
    "every data related fields"
   ]
  },
  {
   "cell_type": "markdown",
   "id": "72b04903",
   "metadata": {},
   "source": [
    "#### Q2. What are the different methods used for Web Scraping?\n"
   ]
  },
  {
   "cell_type": "code",
   "execution_count": null,
   "id": "48cef8b0",
   "metadata": {
    "scrolled": true
   },
   "outputs": [],
   "source": [
    "scraping.find(\"div\")                # find first div\n",
    "scraping.find_all(\"a\")                 # return all anchor tag\n",
    "scraping.select(\"div > p\")           # find paragraph tag inside a div tag\n",
    "scraping.find(\"div\").text            # return tag in text format"
   ]
  },
  {
   "cell_type": "markdown",
   "id": "f9cfa573",
   "metadata": {},
   "source": [
    "- by using chrome extension       \n",
    "- by using python modules             \n",
    "- by using some online tools"
   ]
  },
  {
   "cell_type": "markdown",
   "id": "999cf7cb",
   "metadata": {},
   "source": [
    "#### Q3. What is Beautiful Soup? Why is it used?\n"
   ]
  },
  {
   "cell_type": "markdown",
   "id": "3185b230",
   "metadata": {},
   "source": [
    "BeautifulSoup is a python module, It is used to fetch/scrap data form any publicly abailable website data"
   ]
  },
  {
   "cell_type": "markdown",
   "id": "4d5484c9",
   "metadata": {},
   "source": [
    "#### Q4. Why is flask used in this Web Scraping project?\n"
   ]
  },
  {
   "cell_type": "markdown",
   "id": "8926e4d0",
   "metadata": {},
   "source": [
    "Basicly flask is a API tool, So it is used to build connection between web scraping data and project"
   ]
  },
  {
   "cell_type": "markdown",
   "id": "8c9904a9",
   "metadata": {},
   "source": [
    "#### Q5. Write the names of AWS services used in this project. Also, explain the use of each service."
   ]
  },
  {
   "cell_type": "markdown",
   "id": "d00ad085",
   "metadata": {},
   "source": [
    "Ans :    \n",
    "    In this project two AWS services uses          \n",
    "- First one is <u>**Code Pipeline**</u>, which is used to connect github repo          \n",
    "- Second one is <u>**Beanstalk**</u>, which is used to connect with code pipeline\n",
    "\n",
    "AWS CodePipeline: \n",
    "This service is a continuous delivery and release automation service that allows you to model, visualize, and automate the steps required to release your software. In this project, it is used to connect a GitHub repository to AWS Beanstalk.\n",
    "\n",
    "AWS Elastic Beanstalk: \n",
    "This service is an easy-to-use service for deploying and scaling web applications and services. It handles the deployment details, capacity provisioning, load balancing, and automatic scaling of the application, thereby freeing you up to focus on your code. In this project, it is used to connect with CodePipeline and deploy the web application.\n"
   ]
  }
 ],
 "metadata": {
  "kernelspec": {
   "display_name": "Python 3.8.10 64-bit",
   "language": "python",
   "name": "python3"
  },
  "language_info": {
   "codemirror_mode": {
    "name": "ipython",
    "version": 3
   },
   "file_extension": ".py",
   "mimetype": "text/x-python",
   "name": "python",
   "nbconvert_exporter": "python",
   "pygments_lexer": "ipython3",
   "version": "3.8.10"
  },
  "vscode": {
   "interpreter": {
    "hash": "e7370f93d1d0cde622a1f8e1c04877d8463912d04d973331ad4851f04de6915a"
   }
  }
 },
 "nbformat": 4,
 "nbformat_minor": 5
}
