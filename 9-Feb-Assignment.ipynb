{
 "cells": [
  {
   "cell_type": "code",
   "execution_count": 1,
   "id": "2fb5e4e4-c5e8-45b6-8f91-b1447005342f",
   "metadata": {},
   "outputs": [],
   "source": [
    "# ---------------> Assignment 9 --------->"
   ]
  },
  {
   "cell_type": "code",
   "execution_count": 2,
   "id": "7076006b-2f87-4c2c-8bda-68e39337227c",
   "metadata": {},
   "outputs": [],
   "source": [
    " # Q1, Create a vehicle class with an init method having instance variables \n",
    " #   as name_of_vehicle, max_speed and average_of_vehicle.\n",
    "\n",
    "class Vehicle:\n",
    "    def __init__(self, name_of_vehicle, max_speed, average_of_vehicle):\n",
    "        self.name_of_vehicle = name_of_vehicle\n",
    "        self.max_speed = max_speed\n",
    "        self.average_of_vehicle = average_of_vehicle\n"
   ]
  },
  {
   "cell_type": "code",
   "execution_count": 3,
   "id": "868b6e97-bb45-402a-b4f4-e5270acbb9f5",
   "metadata": {},
   "outputs": [],
   "source": [
    "# Q2. Create a child class car from the vehicle class created in Que 1, \n",
    "#     which will inherit the vehicle class.\n",
    "#     Create a method named seating_capacity which takes capacity as an argument\n",
    "#     and returns the name of the vehicle and its seating capacity.\n",
    "class Car(Vehicle):\n",
    "    def seating_capacity(self, capacity):\n",
    "        return f\"The {self.name_of_vehicle} has a seating capacity of {capacity}.\"\n",
    "\n"
   ]
  },
  {
   "cell_type": "code",
   "execution_count": 4,
   "id": "5beb5665-bf60-46f9-b362-a9468078fe7a",
   "metadata": {},
   "outputs": [
    {
     "name": "stdout",
     "output_type": "stream",
     "text": [
      "Parent1 method1\n",
      "Parent2 method2\n"
     ]
    }
   ],
   "source": [
    "#  Q3. What is multiple inheritance? Write a python code to demonstrate multiple inheritance.\n",
    "\n",
    "# Multiple inheritance is a feature in some object-oriented programming languages that allows \n",
    "# a class to inherit properties and behaviors from more than one parent class. This means that\n",
    "# a class can inherit attributes and methods from multiple parent classes, rather than just one.\n",
    "# example of multiple inheritance in Python:\n",
    "\n",
    "class Parent1:\n",
    "    def method1(self):\n",
    "        print(\"Parent1 method1\")\n",
    "\n",
    "class Parent2:\n",
    "    def method2(self):\n",
    "        print(\"Parent2 method2\")\n",
    "\n",
    "class Child(Parent1, Parent2):\n",
    "    pass\n",
    "\n",
    "c = Child()\n",
    "c.method1()\n",
    "c.method2()\n",
    "\n"
   ]
  },
  {
   "cell_type": "code",
   "execution_count": 33,
   "id": "f496acca-2247-45c3-992b-82f7f85d6bfd",
   "metadata": {},
   "outputs": [
    {
     "name": "stdout",
     "output_type": "stream",
     "text": [
      "200\n",
      "78.5\n"
     ]
    }
   ],
   "source": [
    "# Q4. What are getter and setter in python? Create a class and create a getter and \n",
    "#     a setter method in thisclass.\n",
    "#     Getters and setters are methods in object-oriented programming that allow you \n",
    "#     to get and set the values of an object's attributes, respectively. Getters are\n",
    "#     used to retrieve the value of an attribute, while setters are used to set the value \n",
    "#     of an attribute. \n",
    "#     example of a class with getter and setter methods:\n",
    "      \n",
    "class Shape:\n",
    "    def area(self):\n",
    "        pass\n",
    "\n",
    "class Rectangle(Shape):\n",
    "    def __init__(self, width, height):\n",
    "        self.width = width\n",
    "        self.height = height\n",
    "\n",
    "    def area(self):\n",
    "        return self.width * self.height\n",
    "\n",
    "class Circle(Shape):\n",
    "    def __init__(self, radius):\n",
    "        self.radius = radius\n",
    "\n",
    "    def area(self):\n",
    "        return 3.14 * self.radius * self.radius\n",
    "\n",
    "rect = Rectangle(10, 20)\n",
    "print(rect.area()) \n",
    "circle = Circle(5)\n",
    "print(circle.area()) \n"
   ]
  },
  {
   "cell_type": "code",
   "execution_count": null,
   "id": "57be1fcb-41a0-44b8-a141-c75145ac9427",
   "metadata": {},
   "outputs": [],
   "source": []
  }
 ],
 "metadata": {
  "kernelspec": {
   "display_name": "Python 3 (ipykernel)",
   "language": "python",
   "name": "python3"
  },
  "language_info": {
   "codemirror_mode": {
    "name": "ipython",
    "version": 3
   },
   "file_extension": ".py",
   "mimetype": "text/x-python",
   "name": "python",
   "nbconvert_exporter": "python",
   "pygments_lexer": "ipython3",
   "version": "3.10.8"
  }
 },
 "nbformat": 4,
 "nbformat_minor": 5
}
